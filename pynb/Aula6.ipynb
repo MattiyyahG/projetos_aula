{
  "nbformat": 4,
  "nbformat_minor": 0,
  "metadata": {
    "colab": {
      "name": "Aula6.ipynb",
      "provenance": [],
      "collapsed_sections": []
    },
    "kernelspec": {
      "name": "python3",
      "display_name": "Python 3"
    },
    "language_info": {
      "name": "python"
    }
  },
  "cells": [
    {
      "cell_type": "markdown",
      "metadata": {
        "id": "D0nvlv6EX_iE"
      },
      "source": [
        "\n",
        "# Introdução à Orientação a Objetos\n"
      ]
    },
    {
      "cell_type": "code",
      "metadata": {
        "colab": {
          "base_uri": "https://localhost:8080/"
        },
        "id": "9SuJ_5eUScwx",
        "outputId": "369b76aa-ed12-475c-db62-18e2a070ea39"
      },
      "source": [
        "class Auto:\n",
        "  \n",
        "  '''\n",
        "  construtor\n",
        "  método que é executado quando a classe é instanciada \n",
        "  '''\n",
        "  def __init__(self, placa = \"xx-123\"):\n",
        "    self.placa = placa\n",
        "\n",
        "#self é como se fosse um coringa\n",
        "#que vai ser substituído pelo objeto instanciado\n",
        "#a.placa = placa\n",
        "\n",
        "  def get_placa(self):\n",
        "    return self.placa\n",
        "  \n",
        "  def set_placa(self, buda):\n",
        "    self.placa = buda\n",
        "\n",
        "#a = Auto(a, \"bbb-456\")\n",
        "a = Auto(\"bbb-456\")\n",
        "\n",
        "#objeto.método(atributos do método)\n",
        "#Ex: a.get_placa()\n",
        "\n",
        "print(a.get_placa())\n",
        "a.set_placa(\"xyz-789\")\n",
        "print(a.get_placa())\n",
        "\n",
        "\n",
        "b = Auto(\"vzf-901\")\n",
        "print(b)\n",
        "print(b.get_placa())\n",
        "\n",
        "print(a.get_placa())\n",
        "\n",
        "#mudar atributo na mão\n",
        "a.placa = \"bvc-456\"\n",
        "print(a.placa)\n",
        "\n",
        "c = Auto()\n",
        "print(c.get_placa())"
      ],
      "execution_count": null,
      "outputs": [
        {
          "output_type": "stream",
          "text": [
            "bbb-456\n",
            "xyz-789\n",
            "<__main__.Auto object at 0x7f60bc01f150>\n",
            "vzf-901\n",
            "xyz-789\n",
            "bvc-456\n",
            "xx-123\n"
          ],
          "name": "stdout"
        }
      ]
    },
    {
      "cell_type": "code",
      "metadata": {
        "colab": {
          "base_uri": "https://localhost:8080/"
        },
        "id": "nBBevoTZV7do",
        "outputId": "e6b18711-9f42-4dd8-cbd6-48871c297b74"
      },
      "source": [
        "class Estudante:\n",
        "\n",
        "  #construtor da classe estudante\n",
        "\n",
        "'''\n",
        "O que acontece quando eu instacio uma classe\n",
        "\n",
        "a = Estudante (\"Carlos\", \"1234\")\n",
        "\n",
        "na verdade eu estou escrevendo\n",
        "\n",
        "__init__(a, nome= \"Carlos\", dre =\"1234\")\n",
        "\n",
        "'''\n",
        "  def __init__(self, nome = \"\", dre =\"\"):\n",
        "    self.nome = nome \n",
        "    self.dre = dre\n",
        "    a = open(self.dre+\".txt\",\"a\")\n",
        "    self.disciplinas = [[\"calc1\",4],[\"alg1\", 4]]\n",
        "    self.notas = [7, 8]\n",
        "    #lista ou dicionario de disciplinas e notas\n",
        "  \n",
        "  # deve dizer se o aluno foi ou não aprovado em uma disciplina\n",
        "  #deve retornar uma string\n",
        "  def media(self,p1,p2,p3):\n",
        "    if p1+p2 >= 14:\n",
        "      return \"aprovado direto\"\n",
        "    elif 10 <= p1+p2 < 14:\n",
        "      return \"prova final\"\n",
        "    else:\n",
        "      return \"reprovado direto\"\n",
        "  \n",
        "  #coeficiente de rendimento acumulado\n",
        "  # numero de credito * nota para cada disciplina; soma tudo \n",
        "  #e divide pelo total de créditos cursados\n",
        "  def calcula_CRA(self):\n",
        "  \n",
        "    total_cred = 0\n",
        "    #o range do comprimento de 2 é [0,1]\n",
        "    # len calcula o comprimento do vetor nesse caso 2\n",
        " \n",
        "    # range gera uma lista dado um número indo de 0 até o valor menos 1\n",
        "    # len me dá o comprimento do vetor\n",
        "    # no for gerando uma lista que vai de 0 até o comprimento do vetor disciplinas -1\n",
        "    # vou com essa lista percorrer o vetor disciplinas e somar os valores que estão na \n",
        "    # posição 1 de cada elemento - o que corresponde aos créditos das disciplinas\n",
        "    # isso me dá o total de créditos\n",
        "\n",
        "    for i in range(len(self.disciplinas)):\n",
        "        total_cred += self.disciplinas[i][1]\n",
        "   \n",
        "    print (total_cred)\n",
        "\n",
        "    cra = 0\n",
        "    #[0,1]\n",
        "\n",
        "\n",
        "    for i in range(len(self.notas)):\n",
        "\n",
        "      '''\n",
        "       O calculo do CRA é dado pela soma das notas das disciplinas * o numero de créditos\n",
        "       das mesmas dividido pelo total de créditos\n",
        "\n",
        "      '''\n",
        "      cra += (self.notas[i]* self.disciplinas[i][1])/total_cred\n",
        "\n",
        "    return cra\n",
        "\n",
        "#instanciando um objeto da classe estudante\n",
        "a = Estudante(\"Carlos\",\"1234\")\n",
        "\n",
        "#printando do método média com os atributos \n",
        "a.media(5,6,7)\n",
        "\n",
        "print(a.calcula_CRA())"
      ],
      "execution_count": null,
      "outputs": [
        {
          "output_type": "stream",
          "text": [
            "8\n",
            "7.5\n"
          ],
          "name": "stdout"
        }
      ]
    },
    {
      "cell_type": "code",
      "metadata": {
        "colab": {
          "base_uri": "https://localhost:8080/"
        },
        "id": "u7E0bTfpo_Gm",
        "outputId": "f72463ac-feeb-4a07-edfa-c07ec4575afa"
      },
      "source": [
        "for i in range(5):\n",
        "  print (i)"
      ],
      "execution_count": null,
      "outputs": [
        {
          "output_type": "stream",
          "text": [
            "0\n",
            "1\n",
            "2\n",
            "3\n",
            "4\n"
          ],
          "name": "stdout"
        }
      ]
    },
    {
      "cell_type": "code",
      "metadata": {
        "colab": {
          "base_uri": "https://localhost:8080/"
        },
        "id": "gdDseH4upGyR",
        "outputId": "3a90aab6-9e12-45e4-c149-7fd820277771"
      },
      "source": [
        "j = [\"botafogo\", \"vasco\", \"flamengo\", \"fluminense\"]\n",
        "for i in j:\n",
        "  print (i)"
      ],
      "execution_count": null,
      "outputs": [
        {
          "output_type": "stream",
          "text": [
            "botafogo\n",
            "vasco\n",
            "flamengo\n",
            "fluminense\n"
          ],
          "name": "stdout"
        }
      ]
    },
    {
      "cell_type": "code",
      "metadata": {
        "colab": {
          "base_uri": "https://localhost:8080/"
        },
        "id": "h0UpPP-zpVfK",
        "outputId": "78d6c6cd-1ac9-4099-b313-0493e3352d69"
      },
      "source": [
        "j = [[\"botafogo\", 20], [\"vasco\",18], [\"flamengo\",15], [\"fluminense\",14]]\n",
        "for i in j:\n",
        "  print (i)"
      ],
      "execution_count": null,
      "outputs": [
        {
          "output_type": "stream",
          "text": [
            "['botafogo', 20]\n",
            "['vasco', 18]\n",
            "['flamengo', 15]\n",
            "['fluminense', 14]\n"
          ],
          "name": "stdout"
        }
      ]
    },
    {
      "cell_type": "code",
      "metadata": {
        "colab": {
          "base_uri": "https://localhost:8080/"
        },
        "id": "XrepJvoFpmzn",
        "outputId": "e6a8b137-d38c-403b-8e95-931a6a58b678"
      },
      "source": [
        "j = [[\"botafogo\", 20], [\"vasco\",18], [\"flamengo\",15], [\"fluminense\",14]]\n",
        "print(len(j))\n",
        "b = range(len(j))\n",
        "print (b)\n",
        "\n",
        "for i in range(len(j)):\n",
        "  print (j[i][1])\n",
        "\n"
      ],
      "execution_count": null,
      "outputs": [
        {
          "output_type": "stream",
          "text": [
            "4\n",
            "range(0, 4)\n",
            "20\n",
            "18\n",
            "15\n",
            "14\n"
          ],
          "name": "stdout"
        }
      ]
    }
  ]
}