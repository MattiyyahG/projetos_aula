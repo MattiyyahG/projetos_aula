{
  "nbformat": 4,
  "nbformat_minor": 0,
  "metadata": {
    "colab": {
      "name": "aulaLP.ipynb",
      "provenance": []
    },
    "kernelspec": {
      "name": "python3",
      "display_name": "Python 3"
    },
    "language_info": {
      "name": "python"
    }
  },
  "cells": [
    {
      "cell_type": "code",
      "metadata": {
        "id": "Bz8abpA6wmMG",
        "colab": {
          "base_uri": "https://localhost:8080/"
        },
        "outputId": "e8a23542-a26f-4dd5-e6f8-ca7fc8a5d255"
      },
      "source": [
        "print(\"testando o colab\")"
      ],
      "execution_count": null,
      "outputs": [
        {
          "output_type": "stream",
          "text": [
            "testando o colab\n"
          ],
          "name": "stdout"
        }
      ]
    },
    {
      "cell_type": "code",
      "metadata": {
        "colab": {
          "base_uri": "https://localhost:8080/"
        },
        "id": "UCL26S9sy9v_",
        "outputId": "66eb7d4f-b25a-4269-b9f1-e382468c2f27"
      },
      "source": [
        "#int a = 5;\n",
        "#a = 7;\n",
        "\n",
        "a = 5\n",
        "print (a)"
      ],
      "execution_count": null,
      "outputs": [
        {
          "output_type": "stream",
          "text": [
            "5\n"
          ],
          "name": "stdout"
        }
      ]
    },
    {
      "cell_type": "code",
      "metadata": {
        "colab": {
          "base_uri": "https://localhost:8080/"
        },
        "id": "FaOtItRdzEJg",
        "outputId": "e38a8aef-5c81-46f9-b971-1fbaacc611b3"
      },
      "source": [
        "a = \"Ola\"\n",
        "print(a)"
      ],
      "execution_count": null,
      "outputs": [
        {
          "output_type": "stream",
          "text": [
            "Ola\n"
          ],
          "name": "stdout"
        }
      ]
    },
    {
      "cell_type": "code",
      "metadata": {
        "colab": {
          "base_uri": "https://localhost:8080/"
        },
        "id": "7O1rEWT2zZRp",
        "outputId": "d5f984cc-aeda-4507-c7d6-bae6588d9904"
      },
      "source": [
        "if (a != \"oi\"):\n",
        "  print(\"nao sou oi\")"
      ],
      "execution_count": null,
      "outputs": [
        {
          "output_type": "stream",
          "text": [
            "nao sou oi\n"
          ],
          "name": "stdout"
        }
      ]
    },
    {
      "cell_type": "code",
      "metadata": {
        "colab": {
          "base_uri": "https://localhost:8080/"
        },
        "id": "xeYvBrjazzCQ",
        "outputId": "ca8c7387-d315-4a86-89d3-381f0952e394"
      },
      "source": [
        "for i in range(5): #for (i=0; i<5; i++)\n",
        "  print(i)"
      ],
      "execution_count": null,
      "outputs": [
        {
          "output_type": "stream",
          "text": [
            "0\n",
            "1\n",
            "2\n",
            "3\n",
            "4\n"
          ],
          "name": "stdout"
        }
      ]
    },
    {
      "cell_type": "code",
      "metadata": {
        "colab": {
          "base_uri": "https://localhost:8080/"
        },
        "id": "JNG4N5PJ0P9S",
        "outputId": "33a81448-7af6-4037-caee-002a468a2655"
      },
      "source": [
        "b = \"oi\"\n",
        "\n",
        "print (a == b)\n",
        "\n",
        "print (a+b)"
      ],
      "execution_count": null,
      "outputs": [
        {
          "output_type": "stream",
          "text": [
            "False\n",
            "Olaoi\n"
          ],
          "name": "stdout"
        }
      ]
    }
  ]
}