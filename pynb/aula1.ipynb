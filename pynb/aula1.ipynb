{
  "nbformat": 4,
  "nbformat_minor": 0,
  "metadata": {
    "colab": {
      "name": "aula1.ipynb",
      "provenance": []
    },
    "kernelspec": {
      "name": "python3",
      "display_name": "Python 3"
    },
    "language_info": {
      "name": "python"
    }
  },
  "cells": [
    {
      "cell_type": "markdown",
      "metadata": {
        "id": "bxXuA7JU3mYS"
      },
      "source": [
        "#Introdução\n",
        "\n",
        "\n",
        "Python é uma linguagem diferente do C.\n",
        "\n",
        "C é uma linguagem compilada.\n",
        "\n",
        "Código fonte -> compilador -> Código de máquina (assembly) -> executado pelo computador\n",
        "\n",
        "Python é interpretado.\n",
        "\n",
        "Quer dizer  de forma simplista que cada linha do programa é um programa separado.\n",
        "\n",
        "Ou seja o código de cada linha -> interpretador -> vai passar para um código objeto -> vai ser transformado em linguagem de máquina  (assembly)"
      ]
    },
    {
      "cell_type": "code",
      "metadata": {
        "colab": {
          "base_uri": "https://localhost:8080/"
        },
        "id": "ISUuFbAo3c7K",
        "outputId": "b25eb861-c4e8-42c7-d04f-828d4a93474b"
      },
      "source": [
        "print(\"Olá\")"
      ],
      "execution_count": null,
      "outputs": [
        {
          "output_type": "stream",
          "text": [
            "Olá\n"
          ],
          "name": "stdout"
        }
      ]
    },
    {
      "cell_type": "markdown",
      "metadata": {
        "id": "8fZ2-DYF5Zi_"
      },
      "source": [
        "Exercício 1 - Calcular o fatorial 1000!\n",
        "Faz em python e C"
      ]
    },
    {
      "cell_type": "code",
      "metadata": {
        "colab": {
          "base_uri": "https://localhost:8080/"
        },
        "id": "ALV1fejW5gXB",
        "outputId": "0fb686e9-d198-4518-da5b-eda6c2b6ceaa"
      },
      "source": [
        "# laço de repetição\n",
        "\n",
        "for i in range(5):\n",
        "  print (i)\n",
        "\n",
        "j = 1\n",
        "for i in range(5):\n",
        "  #print(i)\n",
        "  j *= i+1 #j = j*i\n",
        "  print (\"Esse é o fatorial \"+ str(j))"
      ],
      "execution_count": null,
      "outputs": [
        {
          "output_type": "stream",
          "text": [
            "0\n",
            "1\n",
            "2\n",
            "3\n",
            "4\n",
            "Esse é o fatorial 1\n",
            "Esse é o fatorial 2\n",
            "Esse é o fatorial 6\n",
            "Esse é o fatorial 24\n",
            "Esse é o fatorial 120\n"
          ],
          "name": "stdout"
        }
      ]
    },
    {
      "cell_type": "code",
      "metadata": {
        "colab": {
          "base_uri": "https://localhost:8080/"
        },
        "id": "DxW_f-wz6rbh",
        "outputId": "edc64f20-6035-4896-ff88-e963cf6fc2a9"
      },
      "source": [
        "#condicional\n",
        "a = 5\n",
        "b = 3\n",
        "if (a > b):\n",
        "  print(\"ganhei\")\n",
        "else:\n",
        "  print(\"perdi\")"
      ],
      "execution_count": null,
      "outputs": [
        {
          "output_type": "stream",
          "text": [
            "ganhei\n"
          ],
          "name": "stdout"
        }
      ]
    },
    {
      "cell_type": "code",
      "metadata": {
        "colab": {
          "base_uri": "https://localhost:8080/"
        },
        "id": "z3hoEmp86RJd",
        "outputId": "0f1aae10-9dd0-4378-b19c-92db644446bd"
      },
      "source": [
        "#assim eu defino uma função\n",
        "def fatorial(f):\n",
        "  j = 1\n",
        "  for i in range(f):\n",
        "  #print(i)\n",
        "    j *= i+1 #j = j*i\n",
        "  print (j)\n",
        "\n",
        "# assim eu uso uma função\n",
        "fatorial(4)"
      ],
      "execution_count": null,
      "outputs": [
        {
          "output_type": "stream",
          "text": [
            "24\n"
          ],
          "name": "stdout"
        }
      ]
    },
    {
      "cell_type": "markdown",
      "metadata": {
        "id": "L80DduaZ7OBY"
      },
      "source": [
        ""
      ]
    },
    {
      "cell_type": "markdown",
      "metadata": {
        "id": "oG2w7OE968qz"
      },
      "source": [
        "# Dever de casa de vcs\n",
        "\n",
        "1) Instalar o python\n",
        "2) Fazer uma função fatorial em C e python\n",
        "3) Comparar o quanto demora"
      ]
    }
  ]
}