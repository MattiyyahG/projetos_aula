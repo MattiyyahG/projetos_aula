{
  "nbformat": 4,
  "nbformat_minor": 0,
  "metadata": {
    "colab": {
      "name": "aula7.ipynb",
      "provenance": [],
      "collapsed_sections": []
    },
    "kernelspec": {
      "name": "python3",
      "display_name": "Python 3"
    },
    "language_info": {
      "name": "python"
    }
  },
  "cells": [
    {
      "cell_type": "code",
      "metadata": {
        "colab": {
          "base_uri": "https://localhost:8080/"
        },
        "id": "ykUi3yIhBlnb",
        "outputId": "b5d37f61-fc46-4a10-969c-351cc2036413"
      },
      "source": [
        "class Carro:\n",
        "  \n",
        "  def __init__(self, n = 4):\n",
        "    \n",
        "    #atributo publico\n",
        "    self.nrodas = n\n",
        "\n",
        "    #atributo protegido\n",
        "    self._placa = \"xxx-111\"\n",
        "\n",
        "    #atributo privado \n",
        "    self.__nomedodono = \"Ze\"\n",
        "  \n",
        "  def setrodas(self, n):\n",
        "    self.nrodas = n\n",
        "\n",
        "  def setnome(self, nome):\n",
        "    self.__nomedodono = nome\n",
        "\n",
        "  def getnome(self):\n",
        "    return self.__nomedodono\n",
        "\n",
        "# n == 4\n",
        "#nrodas = n\n",
        "a = Carro()\n",
        "\n",
        "print (a.nrodas)\n",
        "\n",
        "a.nrodas = 10\n",
        "\n",
        "print (a.nrodas)\n",
        "\n",
        "print(a._placa)\n",
        "\n",
        "#não é possível\n",
        "#print(a.__nomedodono)\n",
        "\n",
        "#opção viável quando o atributo é privado\n",
        "print(a.getnome())\n",
        "\n",
        "#n == 6\n",
        "#nrodas = n\n",
        "b = Carro(6)\n",
        "\n",
        "print(b.nrodas)\n"
      ],
      "execution_count": null,
      "outputs": [
        {
          "output_type": "stream",
          "text": [
            "4\n",
            "10\n",
            "xxx-111\n",
            "Ze\n",
            "6\n"
          ],
          "name": "stdout"
        }
      ]
    },
    {
      "cell_type": "code",
      "metadata": {
        "colab": {
          "base_uri": "https://localhost:8080/"
        },
        "id": "JxFjGs1SHPnq",
        "outputId": "bf8e6693-966a-441b-92d9-b6964d4d1bbe"
      },
      "source": [
        "\n",
        "#classe pai\n",
        "class Veiculo:\n",
        "  def andar(self): print(\"Andei!\")\n",
        "\n",
        "#classe filho\n",
        "#a classe que vc estende vêm como atributo no nomento que vc declara a função\n",
        "class Carro2(Veiculo):\n",
        "  _nrodas = 3\n",
        "\n",
        "#Instância da classe Carro2\n",
        "gol = Carro2()\n",
        "\n",
        "#herdei o método andar da classe Veículo\n",
        "gol.andar()"
      ],
      "execution_count": null,
      "outputs": [
        {
          "output_type": "stream",
          "text": [
            "Andei!\n"
          ],
          "name": "stdout"
        }
      ]
    },
    {
      "cell_type": "code",
      "metadata": {
        "colab": {
          "base_uri": "https://localhost:8080/",
          "height": 336
        },
        "id": "_zfRG7PmLwvX",
        "outputId": "de2268b0-138e-499b-d739-74fbf168b457"
      },
      "source": [
        "class Pessoa:\n",
        "\n",
        "    def __init__(self, nome, cpf):\n",
        "        self.__nome = nome\n",
        "        self.__cpf = cpf\n",
        "    \n",
        "    def setcpf(self,cpf):\n",
        "        self.__cpf = cpf\n",
        "    \n",
        "    def getcpf(self):\n",
        "        return self.__cpf\n",
        "\n",
        "a = Pessoa(\"Ze\",12)\n",
        "\n",
        "class Professor(Pessoa):\n",
        "    #__init__ é um método privado\n",
        "    #não só os atributos mas os métodos também podem ser \n",
        "    #privados\n",
        "\n",
        "    #nessa classe todos os atributos devem ser privados\n",
        "    def __init__(self, nome, cpf, siape, departamento):\n",
        "        self.__nome = nome\n",
        "        self.__cpf = cpf\n",
        "        self.__siape = siape\n",
        "        self.__dep = departamento\n",
        "\n",
        "    #fazer os getters and setters\n",
        "    # preciso fazer somente siape e departamento\n",
        "\n",
        "    def getsiape(self):\n",
        "      return self.__siape\n",
        "    \n",
        "    def getdep(self):\n",
        "      return self.__dep\n",
        "    \n",
        "    def setsiape(self,siape):\n",
        "      self.__siape = siape\n",
        "    \n",
        "    def setdep(self, dep):\n",
        "      self.__dep = dep\n",
        "\n",
        "    def getcpf(self):\n",
        "      return self.__cpf\n",
        "\n",
        "b = Professor(\"Bob\",\"13\", \"23\", \"Nce\")\n",
        "\n",
        "print(b.getdep())\n",
        "\n",
        "print(b.getcpf())\n"
      ],
      "execution_count": null,
      "outputs": [
        {
          "output_type": "stream",
          "text": [
            "Nce\n"
          ],
          "name": "stdout"
        },
        {
          "output_type": "error",
          "ename": "AttributeError",
          "evalue": "ignored",
          "traceback": [
            "\u001b[0;31m---------------------------------------------------------------------------\u001b[0m",
            "\u001b[0;31mAttributeError\u001b[0m                            Traceback (most recent call last)",
            "\u001b[0;32m<ipython-input-16-38860523a1b8>\u001b[0m in \u001b[0;36m<module>\u001b[0;34m()\u001b[0m\n\u001b[1;32m     47\u001b[0m \u001b[0mprint\u001b[0m\u001b[0;34m(\u001b[0m\u001b[0mb\u001b[0m\u001b[0;34m.\u001b[0m\u001b[0mgetdep\u001b[0m\u001b[0;34m(\u001b[0m\u001b[0;34m)\u001b[0m\u001b[0;34m)\u001b[0m\u001b[0;34m\u001b[0m\u001b[0;34m\u001b[0m\u001b[0m\n\u001b[1;32m     48\u001b[0m \u001b[0;34m\u001b[0m\u001b[0m\n\u001b[0;32m---> 49\u001b[0;31m \u001b[0mprint\u001b[0m\u001b[0;34m(\u001b[0m\u001b[0mb\u001b[0m\u001b[0;34m.\u001b[0m\u001b[0mgetcpf\u001b[0m\u001b[0;34m(\u001b[0m\u001b[0;34m)\u001b[0m\u001b[0;34m)\u001b[0m\u001b[0;34m\u001b[0m\u001b[0;34m\u001b[0m\u001b[0m\n\u001b[0m",
            "\u001b[0;32m<ipython-input-16-38860523a1b8>\u001b[0m in \u001b[0;36mgetcpf\u001b[0;34m(self)\u001b[0m\n\u001b[1;32m      9\u001b[0m \u001b[0;34m\u001b[0m\u001b[0m\n\u001b[1;32m     10\u001b[0m     \u001b[0;32mdef\u001b[0m \u001b[0mgetcpf\u001b[0m\u001b[0;34m(\u001b[0m\u001b[0mself\u001b[0m\u001b[0;34m)\u001b[0m\u001b[0;34m:\u001b[0m\u001b[0;34m\u001b[0m\u001b[0;34m\u001b[0m\u001b[0m\n\u001b[0;32m---> 11\u001b[0;31m         \u001b[0;32mreturn\u001b[0m \u001b[0mself\u001b[0m\u001b[0;34m.\u001b[0m\u001b[0m__cpf\u001b[0m\u001b[0;34m\u001b[0m\u001b[0;34m\u001b[0m\u001b[0m\n\u001b[0m\u001b[1;32m     12\u001b[0m \u001b[0;34m\u001b[0m\u001b[0m\n\u001b[1;32m     13\u001b[0m \u001b[0ma\u001b[0m \u001b[0;34m=\u001b[0m \u001b[0mPessoa\u001b[0m\u001b[0;34m(\u001b[0m\u001b[0;34m\"Ze\"\u001b[0m\u001b[0;34m,\u001b[0m\u001b[0;36m12\u001b[0m\u001b[0;34m)\u001b[0m\u001b[0;34m\u001b[0m\u001b[0;34m\u001b[0m\u001b[0m\n",
            "\u001b[0;31mAttributeError\u001b[0m: 'Professor' object has no attribute '_Pessoa__cpf'"
          ]
        }
      ]
    }
  ]
}