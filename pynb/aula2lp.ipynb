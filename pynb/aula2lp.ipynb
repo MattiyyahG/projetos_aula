{
  "nbformat": 4,
  "nbformat_minor": 0,
  "metadata": {
    "colab": {
      "name": "aula2lp.ipynb",
      "provenance": []
    },
    "kernelspec": {
      "name": "python3",
      "display_name": "Python 3"
    },
    "language_info": {
      "name": "python"
    }
  },
  "cells": [
    {
      "cell_type": "markdown",
      "metadata": {
        "id": "jxJGZYDNIkON"
      },
      "source": [
        "#Aula de hoje\n",
        "\n",
        "1. Tipos básicos\n",
        "2. Vetores e Matrizes\n",
        "3. Funções\n",
        "\n",
        "\n",
        "\n"
      ]
    },
    {
      "cell_type": "code",
      "metadata": {
        "colab": {
          "base_uri": "https://localhost:8080/"
        },
        "id": "5GXUDprJIGas",
        "outputId": "50d9c3fd-87e7-44c4-a39a-bccd8700fa59"
      },
      "source": [
        "!python --version"
      ],
      "execution_count": null,
      "outputs": [
        {
          "output_type": "stream",
          "text": [
            "Python 3.7.10\n"
          ],
          "name": "stdout"
        }
      ]
    },
    {
      "cell_type": "code",
      "metadata": {
        "colab": {
          "base_uri": "https://localhost:8080/"
        },
        "id": "t9mCDihlJKon",
        "outputId": "43a3bba1-c429-4f7f-a73f-7b9fef5e66da"
      },
      "source": [
        "x = 3\n",
        "print(x)\n",
        "print(x,type(x))\n",
        "x = \"A\"\n",
        "print(x)\n",
        "print(x,type(x))"
      ],
      "execution_count": null,
      "outputs": [
        {
          "output_type": "stream",
          "text": [
            "3\n",
            "3 <class 'int'>\n",
            "A\n",
            "A <class 'str'>\n"
          ],
          "name": "stdout"
        }
      ]
    },
    {
      "cell_type": "code",
      "metadata": {
        "colab": {
          "base_uri": "https://localhost:8080/"
        },
        "id": "mnJKAzdQKHt2",
        "outputId": "92e138ad-a72a-4b77-9bd1-185d290b7b04"
      },
      "source": [
        "x = 3\n",
        "print(x +1)\n",
        "print(x -1)\n",
        "print(x *2)\n",
        "print(x **2) # Exponenciação"
      ],
      "execution_count": null,
      "outputs": [
        {
          "output_type": "stream",
          "text": [
            "4\n",
            "2\n",
            "6\n",
            "9\n"
          ],
          "name": "stdout"
        }
      ]
    },
    {
      "cell_type": "code",
      "metadata": {
        "colab": {
          "base_uri": "https://localhost:8080/"
        },
        "id": "uZDLOi2wKXzQ",
        "outputId": "81f5ffb4-d49c-488b-81de-c001e233b44d"
      },
      "source": [
        " x= 3\n",
        "x+=1 # x = x+1\n",
        "#Não tenho x++\n",
        "print(x)\n",
        "x*=2 # x = x*2\n",
        "print(x)"
      ],
      "execution_count": null,
      "outputs": [
        {
          "output_type": "stream",
          "text": [
            "4\n",
            "8\n"
          ],
          "name": "stdout"
        }
      ]
    },
    {
      "cell_type": "code",
      "metadata": {
        "colab": {
          "base_uri": "https://localhost:8080/"
        },
        "id": "LICLLy2WLMIZ",
        "outputId": "a988c92d-717d-4eaf-8d20-edc1fc18bc4f"
      },
      "source": [
        "y = 2.5\n",
        "print(type(y))\n",
        "print(y,y+1, y*2, y**2)"
      ],
      "execution_count": null,
      "outputs": [
        {
          "output_type": "stream",
          "text": [
            "<class 'float'>\n",
            "2.5 3.5 5.0 6.25\n"
          ],
          "name": "stdout"
        }
      ]
    },
    {
      "cell_type": "code",
      "metadata": {
        "colab": {
          "base_uri": "https://localhost:8080/"
        },
        "id": "K0Lfz4BKLavu",
        "outputId": "3a7c293a-2e3a-41f5-8a25-79986d9bad9c"
      },
      "source": [
        "j =7\n",
        "print(type(j))\n",
        "w = 5.0\n",
        "print(type(w))\n",
        "\n",
        "print (j/2)\n",
        "print (w/2.0) "
      ],
      "execution_count": null,
      "outputs": [
        {
          "output_type": "stream",
          "text": [
            "<class 'int'>\n",
            "<class 'float'>\n",
            "3.5\n",
            "2.5\n"
          ],
          "name": "stdout"
        }
      ]
    },
    {
      "cell_type": "code",
      "metadata": {
        "colab": {
          "base_uri": "https://localhost:8080/"
        },
        "id": "Ec3u6L7ELxnU",
        "outputId": "e9723c40-e824-4f13-e806-4324d6e9bba4"
      },
      "source": [
        "t,f = True, False\n",
        "\n",
        "print(type(t))\n",
        "\n",
        "# a, b = b,a -> isso é uma sintaxe válida"
      ],
      "execution_count": null,
      "outputs": [
        {
          "output_type": "stream",
          "text": [
            "<class 'bool'>\n"
          ],
          "name": "stdout"
        }
      ]
    },
    {
      "cell_type": "code",
      "metadata": {
        "colab": {
          "base_uri": "https://localhost:8080/"
        },
        "id": "qbzzLK0wMNzm",
        "outputId": "1ea23f6f-dfcc-4765-8904-1e2dd8e35198"
      },
      "source": [
        "print(t and f) # AND lógico\n",
        "print(t or f) #Or lógico\n",
        "print(not t) # NOT\n",
        "print(t != f) # XOR"
      ],
      "execution_count": null,
      "outputs": [
        {
          "output_type": "stream",
          "text": [
            "False\n",
            "True\n",
            "False\n",
            "True\n"
          ],
          "name": "stdout"
        }
      ]
    },
    {
      "cell_type": "code",
      "metadata": {
        "colab": {
          "base_uri": "https://localhost:8080/"
        },
        "id": "REmUxeYwMi72",
        "outputId": "07d84711-993c-448c-8767-b26a7916bc35"
      },
      "source": [
        "hello = \"hello\"\n",
        "world = \"world\"\n",
        "print(hello, len(hello))"
      ],
      "execution_count": null,
      "outputs": [
        {
          "output_type": "stream",
          "text": [
            "hello 5\n"
          ],
          "name": "stdout"
        }
      ]
    },
    {
      "cell_type": "code",
      "metadata": {
        "colab": {
          "base_uri": "https://localhost:8080/"
        },
        "id": "tF-rBzOXMvF7",
        "outputId": "f8e25238-76a0-42fc-c619-572504ffabf7"
      },
      "source": [
        "hw = hello + ' ' + world\n",
        "print(hw)"
      ],
      "execution_count": null,
      "outputs": [
        {
          "output_type": "stream",
          "text": [
            "hello world\n"
          ],
          "name": "stdout"
        }
      ]
    },
    {
      "cell_type": "code",
      "metadata": {
        "colab": {
          "base_uri": "https://localhost:8080/"
        },
        "id": "D5SKQ0SLM5Np",
        "outputId": "be632ecf-5356-4959-f07a-50ad29911e7a"
      },
      "source": [
        "s = \"hello\"\n",
        "print(s.capitalize())\n",
        "print(s.upper())\n",
        "print(s.rjust(7))\n",
        "print(s.center(7))\n",
        "print(s.replace('l', '(ell)'))\n",
        "print(\"hello world\".strip('h'))\n",
        "print(s[0])\n",
        "\n",
        "#Para casa - pesquisar a função substring."
      ],
      "execution_count": null,
      "outputs": [
        {
          "output_type": "stream",
          "text": [
            "Hello\n",
            "HELLO\n",
            "  hello\n",
            " hello \n",
            "he(ell)(ell)o\n",
            "ello world\n",
            "h\n"
          ],
          "name": "stdout"
        }
      ]
    },
    {
      "cell_type": "markdown",
      "metadata": {
        "id": "nkcReU_YO39q"
      },
      "source": [
        "#Vetores e Matrizes"
      ]
    },
    {
      "cell_type": "code",
      "metadata": {
        "colab": {
          "base_uri": "https://localhost:8080/"
        },
        "id": "b3DMpzshO7fq",
        "outputId": "f9786a61-f59b-43ce-8e32-cbf49d70732e"
      },
      "source": [
        "xs = [3,1,2]\n",
        "print (xs, xs[2])"
      ],
      "execution_count": null,
      "outputs": [
        {
          "output_type": "stream",
          "text": [
            "[3, 1, 2] 2\n"
          ],
          "name": "stdout"
        }
      ]
    },
    {
      "cell_type": "code",
      "metadata": {
        "colab": {
          "base_uri": "https://localhost:8080/"
        },
        "id": "xI04WtQhPTr_",
        "outputId": "199b2555-388d-4b84-b678-0f90ca8ea1d2"
      },
      "source": [
        "print(xs[-1])\n",
        "print(len(xs))"
      ],
      "execution_count": null,
      "outputs": [
        {
          "output_type": "stream",
          "text": [
            "2\n",
            "3\n"
          ],
          "name": "stdout"
        }
      ]
    },
    {
      "cell_type": "code",
      "metadata": {
        "colab": {
          "base_uri": "https://localhost:8080/"
        },
        "id": "ep8YgImWPXRz",
        "outputId": "5b865837-378e-4d98-c096-d50a590353b2"
      },
      "source": [
        "s = \"python\" #-> [\"p\", \"y\", \"t\",\"h\",\"o\",\"n\"]\n",
        "print(s[-1])\n",
        "print(len(s))\n",
        "print(s[-6])\n"
      ],
      "execution_count": null,
      "outputs": [
        {
          "output_type": "stream",
          "text": [
            "n\n",
            "6\n",
            "p\n"
          ],
          "name": "stdout"
        }
      ]
    },
    {
      "cell_type": "code",
      "metadata": {
        "colab": {
          "base_uri": "https://localhost:8080/"
        },
        "id": "sEDUV914Pd0o",
        "outputId": "ec4b62f5-9522-4eae-8bf8-562693968101"
      },
      "source": [
        "s = \"python\"\n",
        "r = \" \" #=> [ ]\n",
        "for i in range(len(s)):\n",
        "  #formando a inversa\n",
        "  r += (s[(-1*i)-1])\n",
        "print(r)\n",
        "\n",
        "for i in range(len(s)):\n",
        "  #imprimindo linha a linha\n",
        "  print(s[(-1*i)-1])\n",
        "\n",
        "#Jeito pythônico\n",
        "txt = \"Hello World\" [::-1]\n",
        "print(txt)"
      ],
      "execution_count": null,
      "outputs": [
        {
          "output_type": "stream",
          "text": [
            " nohtyp\n",
            "n\n",
            "o\n",
            "h\n",
            "t\n",
            "y\n",
            "p\n",
            "dlroW olleH\n"
          ],
          "name": "stdout"
        }
      ]
    },
    {
      "cell_type": "code",
      "metadata": {
        "colab": {
          "base_uri": "https://localhost:8080/"
        },
        "id": "ikK2QUxLRjgx",
        "outputId": "f6012d5d-151f-47c1-a9ae-7b19c0458a4b"
      },
      "source": [
        "xs[2] = 'teste'\n",
        "print(xs)"
      ],
      "execution_count": null,
      "outputs": [
        {
          "output_type": "stream",
          "text": [
            "[3, 1, 'teste']\n"
          ],
          "name": "stdout"
        }
      ]
    },
    {
      "cell_type": "code",
      "metadata": {
        "colab": {
          "base_uri": "https://localhost:8080/"
        },
        "id": "JaLKGw0BSF75",
        "outputId": "78a40284-7c02-4e56-c9a6-1b560e17da6d"
      },
      "source": [
        "xs.append(\"outro\") # adiciona um elemento na lista no final\n",
        "print(xs)\n",
        "xs.pop() # tira o elemento elemento final\n",
        "print(xs)"
      ],
      "execution_count": null,
      "outputs": [
        {
          "output_type": "stream",
          "text": [
            "[3, 1, 'teste', 'outro']\n",
            "[3, 1, 'teste']\n"
          ],
          "name": "stdout"
        }
      ]
    },
    {
      "cell_type": "markdown",
      "metadata": {
        "id": "eNhkY75uSehQ"
      },
      "source": [
        "#Slicing"
      ]
    },
    {
      "cell_type": "code",
      "metadata": {
        "colab": {
          "base_uri": "https://localhost:8080/"
        },
        "id": "pc6R3vYBSgR9",
        "outputId": "b7b5f01f-6640-4c0a-b2e4-b74a816c586a"
      },
      "source": [
        "nums = list(range(5))\n",
        "print(nums)"
      ],
      "execution_count": null,
      "outputs": [
        {
          "output_type": "stream",
          "text": [
            "[0, 1, 2, 3, 4]\n"
          ],
          "name": "stdout"
        }
      ]
    },
    {
      "cell_type": "code",
      "metadata": {
        "colab": {
          "base_uri": "https://localhost:8080/"
        },
        "id": "-NJVhW9dTJ7U",
        "outputId": "9f45275a-dce1-42f7-9761-ce859dd875e3"
      },
      "source": [
        "print(nums[2:4])\n",
        "palavra = \"Coelho\"\n",
        "print(palavra[2:4])# corta da posição 2 até antes da posição 4\n",
        "print(palavra[2:])\n",
        "print(palavra[:2])\n",
        "print(palavra[:])\n",
        "print(palavra[:-1])\n",
        "nums[2:4] = [8,9]\n",
        "print(nums)\n",
        "\n",
        "# se for trocar amazon.com.br por amazon.com.es - como vcs fariam?\n",
        "link = \"amazon.com.br\"\n",
        "print(type(link)) #string\n",
        "print(type(nums)) #lista \n",
        "print(link[:-2]+\"es\")\n",
        "print(link)"
      ],
      "execution_count": null,
      "outputs": [
        {
          "output_type": "stream",
          "text": [
            "[8, 9]\n",
            "el\n",
            "elho\n",
            "Co\n",
            "Coelho\n",
            "Coelh\n",
            "[0, 1, 8, 9, 4]\n",
            "<class 'str'>\n",
            "<class 'list'>\n",
            "amazon.com.es\n",
            "amazon.com.br\n"
          ],
          "name": "stdout"
        }
      ]
    },
    {
      "cell_type": "code",
      "metadata": {
        "colab": {
          "base_uri": "https://localhost:8080/"
        },
        "id": "HiWG9WxHSzlh",
        "outputId": "e2e4536f-4302-4e95-dd82-9d9f717bf399"
      },
      "source": [
        "x = \"buda\" # => [\"b\",\"u\",\"d\",\"a\"]\n",
        "for i in x:\n",
        "  print(i)"
      ],
      "execution_count": null,
      "outputs": [
        {
          "output_type": "stream",
          "text": [
            "b\n",
            "u\n",
            "d\n",
            "a\n"
          ],
          "name": "stdout"
        }
      ]
    },
    {
      "cell_type": "markdown",
      "metadata": {
        "id": "PWFUst4RWQaN"
      },
      "source": [
        "#Laços de Repetição"
      ]
    },
    {
      "cell_type": "code",
      "metadata": {
        "colab": {
          "base_uri": "https://localhost:8080/"
        },
        "id": "VhdoKqiOWO8Q",
        "outputId": "7b8a617b-f8d8-4a78-80b8-c26acd8af26f"
      },
      "source": [
        "animais = [\"cao\",\"gato\",\"sapo\"]\n",
        "\n",
        "# O for itera sobre listas - por isso usamos range(variável)\n",
        "for animal in animais:\n",
        "  print(animal)"
      ],
      "execution_count": null,
      "outputs": [
        {
          "output_type": "stream",
          "text": [
            "cao\n",
            "gato\n",
            "sapo\n"
          ],
          "name": "stdout"
        }
      ]
    },
    {
      "cell_type": "code",
      "metadata": {
        "colab": {
          "base_uri": "https://localhost:8080/"
        },
        "id": "HM2nMVGJWxIG",
        "outputId": "44f26b02-d8c1-4bcc-9e3b-b9516e72a897"
      },
      "source": [
        "\n",
        "# guarda no coração que voltamos nisso\n",
        "\n",
        "animais = [\"cao\",\"gato\",\"sapo\"]\n",
        "print(enumerate(animais))\n",
        "\n",
        "for i, animal in enumerate(animais):\n",
        "  print('#{}: {}'.format(i+1, animal))"
      ],
      "execution_count": null,
      "outputs": [
        {
          "output_type": "stream",
          "text": [
            "<enumerate object at 0x7fa94969ef50>\n",
            "#1: cao\n",
            "#2: gato\n",
            "#3: sapo\n"
          ],
          "name": "stdout"
        }
      ]
    },
    {
      "cell_type": "code",
      "metadata": {
        "colab": {
          "base_uri": "https://localhost:8080/"
        },
        "id": "FUh8X47hXw71",
        "outputId": "2a84ddda-ddc9-4cdc-87e1-f161873d355c"
      },
      "source": [
        "nums = list(range(5))\n",
        "print(nums)\n",
        "quadrados = []\n",
        "for i in nums:\n",
        "  quadrados.append(i ** 2)\n",
        "print(quadrados)"
      ],
      "execution_count": null,
      "outputs": [
        {
          "output_type": "stream",
          "text": [
            "[0, 1, 2, 3, 4]\n",
            "[0, 1, 4, 9, 16]\n"
          ],
          "name": "stdout"
        }
      ]
    },
    {
      "cell_type": "markdown",
      "metadata": {
        "id": "fgD7W-ZzYp_e"
      },
      "source": [
        "#List Comprehensions"
      ]
    },
    {
      "cell_type": "code",
      "metadata": {
        "colab": {
          "base_uri": "https://localhost:8080/"
        },
        "id": "5wsaK6ydYs41",
        "outputId": "2c9c4430-ad14-48b1-ee92-c303b3538954"
      },
      "source": [
        "### NÂO PRECISA DISSO AGORA \n",
        "\n",
        "quadrados = [x**2 for x in nums]\n",
        "print(quadrados)\n",
        "\n",
        "# % é operador módulo\n",
        "print(4%2) # 4/2 dá resto 0\n",
        "print(5%2) # 5 dividido por 2 dá resto 1\n",
        "print(5%3) # 5 dividido por 3 dá resto 2\n",
        "\n",
        "quadrados_pares = [x**2 for x in nums if x % 2 ==0] # operador % significa resto da divisão, a.k.a módulo\n",
        "print(quadrados_pares)"
      ],
      "execution_count": null,
      "outputs": [
        {
          "output_type": "stream",
          "text": [
            "[0, 1, 4, 9, 16]\n",
            "0\n",
            "1\n",
            "2\n",
            "[0, 4, 16]\n"
          ],
          "name": "stdout"
        }
      ]
    },
    {
      "cell_type": "markdown",
      "metadata": {
        "id": "zPXuUmMOauet"
      },
      "source": [
        "#Funções "
      ]
    },
    {
      "cell_type": "code",
      "metadata": {
        "colab": {
          "base_uri": "https://localhost:8080/",
          "height": 401
        },
        "id": "1kvdiO_XatNP",
        "outputId": "b5b5ab9b-be88-4263-c4fb-06891da56902"
      },
      "source": [
        "#int nome(argu){}\n",
        "\n",
        "def soma(a,b):\n",
        "  return a+b\n",
        "\n",
        "def soma_sem_retorno(a,b):\n",
        "  print(a+b)\n",
        "\n",
        "f = soma(5,3)\n",
        "print(f)\n",
        "\n",
        "# g vai receber None\n",
        "g = soma_sem_retorno(5,3)\n",
        "print (g)\n",
        "\n",
        "print(soma(5,2))\n",
        "print(soma(\"hello\",\" world\"))\n",
        "\n",
        "# o próximo dá erro\n",
        "print(soma(\"hello\", 5))"
      ],
      "execution_count": null,
      "outputs": [
        {
          "output_type": "stream",
          "text": [
            "8\n",
            "8\n",
            "None\n",
            "7\n",
            "hello world\n"
          ],
          "name": "stdout"
        },
        {
          "output_type": "error",
          "ename": "TypeError",
          "evalue": "ignored",
          "traceback": [
            "\u001b[0;31m---------------------------------------------------------------------------\u001b[0m",
            "\u001b[0;31mTypeError\u001b[0m                                 Traceback (most recent call last)",
            "\u001b[0;32m<ipython-input-1-ce70f7e0b78a>\u001b[0m in \u001b[0;36m<module>\u001b[0;34m()\u001b[0m\n\u001b[1;32m     18\u001b[0m \u001b[0;34m\u001b[0m\u001b[0m\n\u001b[1;32m     19\u001b[0m \u001b[0;31m# o próximo dá erro\u001b[0m\u001b[0;34m\u001b[0m\u001b[0;34m\u001b[0m\u001b[0;34m\u001b[0m\u001b[0m\n\u001b[0;32m---> 20\u001b[0;31m \u001b[0mprint\u001b[0m\u001b[0;34m(\u001b[0m\u001b[0msoma\u001b[0m\u001b[0;34m(\u001b[0m\u001b[0;34m\"hello\"\u001b[0m\u001b[0;34m,\u001b[0m \u001b[0;36m5\u001b[0m\u001b[0;34m)\u001b[0m\u001b[0;34m)\u001b[0m\u001b[0;34m\u001b[0m\u001b[0;34m\u001b[0m\u001b[0m\n\u001b[0m",
            "\u001b[0;32m<ipython-input-1-ce70f7e0b78a>\u001b[0m in \u001b[0;36msoma\u001b[0;34m(a, b)\u001b[0m\n\u001b[1;32m      2\u001b[0m \u001b[0;34m\u001b[0m\u001b[0m\n\u001b[1;32m      3\u001b[0m \u001b[0;32mdef\u001b[0m \u001b[0msoma\u001b[0m\u001b[0;34m(\u001b[0m\u001b[0ma\u001b[0m\u001b[0;34m,\u001b[0m\u001b[0mb\u001b[0m\u001b[0;34m)\u001b[0m\u001b[0;34m:\u001b[0m\u001b[0;34m\u001b[0m\u001b[0;34m\u001b[0m\u001b[0m\n\u001b[0;32m----> 4\u001b[0;31m   \u001b[0;32mreturn\u001b[0m \u001b[0ma\u001b[0m\u001b[0;34m+\u001b[0m\u001b[0mb\u001b[0m\u001b[0;34m\u001b[0m\u001b[0;34m\u001b[0m\u001b[0m\n\u001b[0m\u001b[1;32m      5\u001b[0m \u001b[0;34m\u001b[0m\u001b[0m\n\u001b[1;32m      6\u001b[0m \u001b[0;32mdef\u001b[0m \u001b[0msoma_sem_retorno\u001b[0m\u001b[0;34m(\u001b[0m\u001b[0ma\u001b[0m\u001b[0;34m,\u001b[0m\u001b[0mb\u001b[0m\u001b[0;34m)\u001b[0m\u001b[0;34m:\u001b[0m\u001b[0;34m\u001b[0m\u001b[0;34m\u001b[0m\u001b[0m\n",
            "\u001b[0;31mTypeError\u001b[0m: can only concatenate str (not \"int\") to str"
          ]
        }
      ]
    },
    {
      "cell_type": "code",
      "metadata": {
        "colab": {
          "base_uri": "https://localhost:8080/"
        },
        "id": "WGhKYCo_cNDL",
        "outputId": "e90d01f5-5396-46a6-d119-7a9a1f28f638"
      },
      "source": [
        "def sinal(x):\n",
        "  if x > 0:\n",
        "    return \"positivo\"\n",
        "  elif x < 0:\n",
        "    return \"negativo\"\n",
        "  else:\n",
        "    return \"zero\"\n",
        "\n",
        "for x in [-1,0,1]:\n",
        "  print(sinal(x))"
      ],
      "execution_count": null,
      "outputs": [
        {
          "output_type": "stream",
          "text": [
            "negativo\n",
            "zero\n",
            "positivo\n"
          ],
          "name": "stdout"
        }
      ]
    },
    {
      "cell_type": "code",
      "metadata": {
        "colab": {
          "base_uri": "https://localhost:8080/"
        },
        "id": "lfzCYYUucrN5",
        "outputId": "bca386f9-a38d-4341-e464-93b98097677b"
      },
      "source": [
        "# o segundo argumento tem um valor padrão - ou seja é opcional declarar ele \n",
        "def oi(nome, alto=False):\n",
        "  if alto:\n",
        "    print(\"oi \"+nome.upper())\n",
        "  else:\n",
        "    print(\"oi \"+nome)\n",
        "\n",
        "oi(\"Bob\") # alto = False\n",
        "oi(\"Fred\", alto=True) # aqui eu explicitamente estou dizendo que alto é verdadeiro\n",
        "oi(\"Pedro\", True)"
      ],
      "execution_count": null,
      "outputs": [
        {
          "output_type": "stream",
          "text": [
            "oi Bob\n",
            "oi FRED\n",
            "oi PEDRO\n"
          ],
          "name": "stdout"
        }
      ]
    },
    {
      "cell_type": "code",
      "metadata": {
        "colab": {
          "base_uri": "https://localhost:8080/"
        },
        "id": "sjBRIzPgd7-9",
        "outputId": "3e6bfe77-e3fd-42f8-dad0-0c198b6a32ee"
      },
      "source": [
        "#biblioteca de operações de vetores e matrizes\n",
        "# import é o comando que faz importar bibliotecas no python\n",
        "\n",
        "import numpy as np # estou dando o apelido np para a biblioteca numpy\n",
        "\n",
        "a = np.array([1,2,3])\n",
        "b = np.array([2,4,6])\n",
        "\n",
        "#soma de vetores\n",
        "print(a+b)"
      ],
      "execution_count": null,
      "outputs": [
        {
          "output_type": "stream",
          "text": [
            "[3 6 9]\n"
          ],
          "name": "stdout"
        }
      ]
    },
    {
      "cell_type": "code",
      "metadata": {
        "colab": {
          "base_uri": "https://localhost:8080/"
        },
        "id": "JuSt5zZWeaTI",
        "outputId": "5268d081-2b59-408a-cec0-1161b16e5aff"
      },
      "source": [
        "\n",
        "# isso é uma matriz\n",
        "# é uma lista de listas\n",
        "c = np.array([[1,2,3],[4,5,6],[7,8,9]])\n",
        "print(c)\n",
        "d = np.array([[1,2,3],[4,5,6],[7,8,9]])\n",
        "\n",
        "print(c+d)\n",
        "\n",
        "#operações matriciais fáceis\n",
        "e = c+d\n",
        "\n",
        "print (e)\n",
        "\n",
        "f = (e*c)\n",
        "\n",
        "print(f)\n",
        "\n",
        "# apara manipular um elemento específico\n",
        "print(f[0,2])"
      ],
      "execution_count": null,
      "outputs": [
        {
          "output_type": "stream",
          "text": [
            "[[1 2 3]\n",
            " [4 5 6]\n",
            " [7 8 9]]\n",
            "[[ 2  4  6]\n",
            " [ 8 10 12]\n",
            " [14 16 18]]\n",
            "[[ 2  4  6]\n",
            " [ 8 10 12]\n",
            " [14 16 18]]\n",
            "[[  2   8  18]\n",
            " [ 32  50  72]\n",
            " [ 98 128 162]]\n",
            "18\n"
          ],
          "name": "stdout"
        }
      ]
    },
    {
      "cell_type": "code",
      "metadata": {
        "colab": {
          "base_uri": "https://localhost:8080/",
          "height": 384
        },
        "id": "9QVG5xg6fwmf",
        "outputId": "156a4a9c-7824-423e-9f69-36d497478bf4"
      },
      "source": [
        "import matplotlib.pyplot as plt\n",
        "%matplotlib inline\n",
        "\n",
        "x = np.arange(0,3 * np.pi, 0.1)\n",
        "print (x)\n",
        "\n",
        "y = np.sin(x)\n",
        "\n",
        "plt.plot(x,y)"
      ],
      "execution_count": null,
      "outputs": [
        {
          "output_type": "stream",
          "text": [
            "[0.  0.1 0.2 0.3 0.4 0.5 0.6 0.7 0.8 0.9 1.  1.1 1.2 1.3 1.4 1.5 1.6 1.7\n",
            " 1.8 1.9 2.  2.1 2.2 2.3 2.4 2.5 2.6 2.7 2.8 2.9 3.  3.1 3.2 3.3 3.4 3.5\n",
            " 3.6 3.7 3.8 3.9 4.  4.1 4.2 4.3 4.4 4.5 4.6 4.7 4.8 4.9 5.  5.1 5.2 5.3\n",
            " 5.4 5.5 5.6 5.7 5.8 5.9 6.  6.1 6.2 6.3 6.4 6.5 6.6 6.7 6.8 6.9 7.  7.1\n",
            " 7.2 7.3 7.4 7.5 7.6 7.7 7.8 7.9 8.  8.1 8.2 8.3 8.4 8.5 8.6 8.7 8.8 8.9\n",
            " 9.  9.1 9.2 9.3 9.4]\n"
          ],
          "name": "stdout"
        },
        {
          "output_type": "execute_result",
          "data": {
            "text/plain": [
              "[<matplotlib.lines.Line2D at 0x7fa949488e50>]"
            ]
          },
          "metadata": {
            "tags": []
          },
          "execution_count": 97
        },
        {
          "output_type": "display_data",
          "data": {
            "image/png": "[encoded data removed]",
            "text/plain": [
              "<Figure size 432x288 with 1 Axes>"
            ]
          },
          "metadata": {
            "tags": [],
            "needs_background": "light"
          }
        }
      ]
    }
  ]
}