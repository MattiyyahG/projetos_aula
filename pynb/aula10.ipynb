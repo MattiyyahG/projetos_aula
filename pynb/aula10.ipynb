{
  "nbformat": 4,
  "nbformat_minor": 0,
  "metadata": {
    "colab": {
      "name": "aula10.ipynb",
      "provenance": []
    },
    "kernelspec": {
      "name": "python3",
      "display_name": "Python 3"
    },
    "language_info": {
      "name": "python"
    }
  },
  "cells": [
    {
      "cell_type": "code",
      "metadata": {
        "colab": {
          "base_uri": "https://localhost:8080/"
        },
        "id": "LaiVIsQ0heOR",
        "outputId": "63a59038-6bcd-46d4-e2d5-18f30a95dd6e"
      },
      "source": [
        "try:\n",
        "    print (1/0)\n",
        "except ZeroDivisionError:\n",
        "    print ('Erro ao tentar dividir por zero.')"
      ],
      "execution_count": null,
      "outputs": [
        {
          "output_type": "stream",
          "text": [
            "Erro ao tentar dividir por zero.\n"
          ],
          "name": "stdout"
        }
      ]
    }
  ]
}