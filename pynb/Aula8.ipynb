{
  "nbformat": 4,
  "nbformat_minor": 0,
  "metadata": {
    "colab": {
      "name": "Aula8",
      "provenance": [],
      "collapsed_sections": []
    },
    "kernelspec": {
      "name": "python3",
      "display_name": "Python 3"
    },
    "language_info": {
      "name": "python"
    }
  },
  "cells": [
    {
      "cell_type": "code",
      "metadata": {
        "colab": {
          "base_uri": "https://localhost:8080/"
        },
        "id": "MJPSUWMxXa8G",
        "outputId": "70ec1c9a-4157-4588-8cdf-fbbaa09259c7"
      },
      "source": [
        "class Pessoa:\n",
        "\n",
        "    def __init__(self, nome, cpf):\n",
        "        self.__nome = nome\n",
        "        self.__cpf = cpf\n",
        "    \n",
        "    def setcpf(self,cpf):\n",
        "        self.__cpf = cpf\n",
        "    \n",
        "    def getcpf(self):\n",
        "        return self.__cpf\n",
        "\n",
        "a = Pessoa(\"Ze\",12)\n",
        "\n",
        "class Professor(Pessoa):\n",
        "    #__init__ é um método privado\n",
        "    #não só os atributos mas os métodos também podem ser \n",
        "    #privados\n",
        "\n",
        "    #nessa classe todos os atributos devem ser privados\n",
        "    def __init__(self, nome, cpf, siape, departamento):\n",
        "        #o que colocar aqui?\n",
        "        super().__init__(nome,cpf)\n",
        "        self.__siape = siape\n",
        "        self.__dep = departamento\n",
        "\n",
        "    #fazer os getters and setters\n",
        "    # preciso fazer somente siape e departamento\n",
        "\n",
        "    def getsiape(self):\n",
        "      return self.__siape\n",
        "    \n",
        "    def getdep(self):\n",
        "      return self.__dep\n",
        "    \n",
        "    def setsiape(self,siape):\n",
        "      self.__siape = siape\n",
        "    \n",
        "    def setdep(self, dep):\n",
        "      self.__dep = dep\n",
        "\n",
        "\n",
        "class Aluno(Pessoa):\n",
        "  def __init__(self, nome, cpf, dre,curso):\n",
        "    super().__init__(nome,cpf)\n",
        "    self.__dre = dre\n",
        "    self.__curso = curso\n",
        "  \n",
        "  def getdre(self):\n",
        "    return self.__dre\n",
        "  \n",
        "  def setdre(self,dre):\n",
        "    self.__dre = dre\n",
        "  \n",
        "  def getcurso(self):\n",
        "    return self.__curso\n",
        "  \n",
        "  def setcurso(self,curso):\n",
        "    self.__curso = curso\n",
        "\n",
        "\n",
        "b = Professor(\"Bob\",\"13\", \"23\", \"Nce\")\n",
        "\n",
        "c = Aluno(\"Ze\", \"15\", \"11\", \"ECA\")\n",
        "\n",
        "print(b.getdep())\n",
        "\n",
        "print(b.getcpf())\n",
        "\n",
        "print(c.getdre())\n",
        "\n",
        "print(c.getcpf())"
      ],
      "execution_count": null,
      "outputs": [
        {
          "output_type": "stream",
          "text": [
            "Nce\n",
            "13\n",
            "11\n",
            "15\n"
          ],
          "name": "stdout"
        }
      ]
    }
  ]
}