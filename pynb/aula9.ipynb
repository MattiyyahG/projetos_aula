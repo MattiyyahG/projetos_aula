{
  "nbformat": 4,
  "nbformat_minor": 0,
  "metadata": {
    "colab": {
      "name": "aula9.ipynb",
      "provenance": []
    },
    "kernelspec": {
      "name": "python3",
      "display_name": "Python 3"
    },
    "language_info": {
      "name": "python"
    }
  },
  "cells": [
    {
      "cell_type": "code",
      "metadata": {
        "colab": {
          "base_uri": "https://localhost:8080/"
        },
        "id": "CuKhGSBEDeq5",
        "outputId": "3eaace1e-9393-4f2d-a37a-0f6266358eec"
      },
      "source": [
        "class Poligono:\n",
        "  def __init__(self,lados):\n",
        "    self.__lados = lados\n",
        "  \n",
        "  def setlados(self,lados):\n",
        "    self.__lados = lados\n",
        "\n",
        "  def getlados(self):\n",
        "    return self.__lados\n",
        "\n",
        "  def area(self, larg, altura):\n",
        "    return larg*altura\n",
        "\n",
        "\n",
        "class Quadrado(Poligono):\n",
        "\n",
        "  def area(self, tam_lado):\n",
        "    return tam_lado*tam_lado\n",
        "\n",
        "class Retangulo(Poligono):\n",
        "  pass\n",
        "\n",
        "c = Quadrado(4)\n",
        "\n",
        "d = Retangulo(4)\n",
        "\n",
        "print(c.getlados())\n",
        "\n",
        "print(c.area(4))\n",
        "\n",
        "print(d.getlados())\n",
        "\n",
        "print(d.area(3,4))\n"
      ],
      "execution_count": null,
      "outputs": [
        {
          "output_type": "stream",
          "text": [
            "4\n",
            "16\n",
            "4\n",
            "12\n"
          ],
          "name": "stdout"
        }
      ]
    }
  ]
}